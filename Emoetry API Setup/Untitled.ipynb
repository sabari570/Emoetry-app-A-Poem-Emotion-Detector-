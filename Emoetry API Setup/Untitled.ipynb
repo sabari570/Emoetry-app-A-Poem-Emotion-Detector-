{
 "cells": [
  {
   "cell_type": "code",
   "execution_count": 1,
   "id": "333153ad",
   "metadata": {},
   "outputs": [
    {
     "name": "stdout",
     "output_type": "stream",
     "text": [
      "Accuracy: 45.20547945205479 %\n",
      "Emotion lable:  0\n",
      "Stanza:\n",
      "\n",
      "I have found the secret of loving you.\n",
      "Emotions:\n",
      "['love']\n",
      "\n",
      "\n",
      "Accuracy: 45.20547945205479 %\n",
      "Confusion Matrix:\n",
      "[[20  6  1  0  0  0  0  2  3]\n",
      " [ 9 13  1  1  0  0  2  8  1]\n",
      " [ 2  0  6  0  0  0  1  0  0]\n",
      " [ 0  0  0  2  0  0  0  0  0]\n",
      " [ 2  1  0  0  1  0  3  1  0]\n",
      " [ 0  0  0  0  0  2  0  1  0]\n",
      " [ 2  0  1  0  1  0  8  2  2]\n",
      " [ 7  6  0  0  0  0  2 12  2]\n",
      " [ 6  1  0  0  0  0  0  3  2]]\n"
     ]
    }
   ],
   "source": [
    "import pandas as pd\n",
    "from nltk.tokenize import sent_tokenize, word_tokenize\n",
    "from nltk.corpus import stopwords\n",
    "from nltk.stem import PorterStemmer\n",
    "from sklearn.feature_extraction.text import TfidfVectorizer\n",
    "from sklearn.model_selection import train_test_split\n",
    "from sklearn.linear_model import PassiveAggressiveClassifier\n",
    "from sklearn.metrics import accuracy_score\n",
    "\n",
    "# Load the dataset\n",
    "df = pd.read_csv(\"PERC_mendelly.csv\")\n",
    "\n",
    "#df = pd.read_csv(\"final_trial.csv\")\n",
    "df = df.dropna()\n",
    "\n",
    "# Preprocess the text\n",
    "stop_words = set(stopwords.words('english'))\n",
    "stemmer = PorterStemmer()\n",
    "\n",
    "def preprocess(text):\n",
    "    tokens = word_tokenize(text.lower())\n",
    "    tokens = [token for token in tokens if token not in stop_words]\n",
    "    tokens = [stemmer.stem(token) for token in tokens]\n",
    "    return ' '.join(tokens)\n",
    "\n",
    "df['clean_text'] = df['Poem'].apply(preprocess)\n",
    "\n",
    "# Split the poem column into individual stanzas\n",
    "df['stanzas'] = df['Poem'].apply(sent_tokenize)\n",
    "\n",
    "# Convert emotions column to numerical labels\n",
    "emotions = ['love', 'sad', 'anger', 'hate', 'fear', 'surprise', 'courage', 'joy', 'peace',\"hope\",'care']\n",
    "df['emotion_label'] = df['Emotion'].apply(emotions.index)\n",
    "\n",
    "# Split the dataset into training and testing sets\n",
    "X_train, X_test, y_train, y_test = train_test_split(df['stanzas'], df['emotion_label'], test_size=0.2, random_state=42)\n",
    "\n",
    "# Extract features from the stanzas using TfidfVectorizer\n",
    "vectorizer = TfidfVectorizer(stop_words='english')\n",
    "X_train_tfidf = vectorizer.fit_transform([' '.join(stanza) for stanza in X_train])\n",
    "X_test_tfidf = vectorizer.transform([' '.join(stanza) for stanza in X_test])\n",
    "\n",
    "# Train a Passive Aggressive Classifier\n",
    "model = PassiveAggressiveClassifier(C=1.0, max_iter=1000, random_state=42)\n",
    "model.fit(X_train_tfidf, y_train)\n",
    "\n",
    "# Save the trained model\n",
    "# joblib.dump(model, 'pac_perc.joblib')\n",
    "\n",
    "# Evaluate the performance of the model\n",
    "y_pred = model.predict(X_test_tfidf)\n",
    "accuracy = accuracy_score(y_test, y_pred)\n",
    "print(\"Accuracy:\", accuracy*100,\"%\")\n",
    "\n",
    "# Use the trained model to predict the emotion of each stanza in a new poem\n",
    "new_poem = \"\"\"\n",
    "I have found the secret of loving you.\n",
    "\"\"\"\n",
    "new_stanzas = sent_tokenize(new_poem)\n",
    "\n",
    "for stanza in new_stanzas:\n",
    "    lines = stanza.strip().split('\\n')\n",
    "    line_emotions = []\n",
    "    for line in lines:\n",
    "        line_tfidf = vectorizer.transform([preprocess(line)])\n",
    "        line_emotion = emotions[model.predict(line_tfidf)[0]]\n",
    "        print(\"Emotion lable: \", model.predict(line_tfidf)[0])\n",
    "        line_emotions.append(line_emotion)\n",
    "    print('Stanza:')\n",
    "    print(stanza)\n",
    "    print('Emotions:')\n",
    "    print(line_emotions)\n",
    "    print(\"\\n\")\n",
    "from sklearn.metrics import confusion_matrix\n",
    "\n",
    "# ...\n",
    "\n",
    "# Evaluate the performance of the model\n",
    "y_pred = model.predict(X_test_tfidf)\n",
    "accuracy = accuracy_score(y_test, y_pred)\n",
    "print(\"Accuracy:\", accuracy*100,\"%\")\n",
    "\n",
    "# Generate the confusion matrix\n",
    "cm = confusion_matrix(y_test, y_pred)\n",
    "print(\"Confusion Matrix:\")\n",
    "print(cm)"
   ]
  },
  {
   "cell_type": "code",
   "execution_count": null,
   "id": "9d63fae2",
   "metadata": {},
   "outputs": [],
   "source": [
    "impo"
   ]
  }
 ],
 "metadata": {
  "kernelspec": {
   "display_name": "Python 3 (ipykernel)",
   "language": "python",
   "name": "python3"
  },
  "language_info": {
   "codemirror_mode": {
    "name": "ipython",
    "version": 3
   },
   "file_extension": ".py",
   "mimetype": "text/x-python",
   "name": "python",
   "nbconvert_exporter": "python",
   "pygments_lexer": "ipython3",
   "version": "3.9.16"
  },
  "varInspector": {
   "cols": {
    "lenName": 16,
    "lenType": 16,
    "lenVar": 40
   },
   "kernels_config": {
    "python": {
     "delete_cmd_postfix": "",
     "delete_cmd_prefix": "del ",
     "library": "var_list.py",
     "varRefreshCmd": "print(var_dic_list())"
    },
    "r": {
     "delete_cmd_postfix": ") ",
     "delete_cmd_prefix": "rm(",
     "library": "var_list.r",
     "varRefreshCmd": "cat(var_dic_list()) "
    }
   },
   "types_to_exclude": [
    "module",
    "function",
    "builtin_function_or_method",
    "instance",
    "_Feature"
   ],
   "window_display": false
  }
 },
 "nbformat": 4,
 "nbformat_minor": 5
}
